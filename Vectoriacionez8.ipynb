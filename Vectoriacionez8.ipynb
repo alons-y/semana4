{
  "nbformat": 4,
  "nbformat_minor": 0,
  "metadata": {
    "colab": {
      "provenance": [],
      "authorship_tag": "ABX9TyM0KVq/cJAVMx1pvens+ET7",
      "include_colab_link": true
    },
    "kernelspec": {
      "name": "python3",
      "display_name": "Python 3"
    },
    "language_info": {
      "name": "python"
    }
  },
  "cells": [
    {
      "cell_type": "markdown",
      "metadata": {
        "id": "view-in-github",
        "colab_type": "text"
      },
      "source": [
        "<a href=\"https://colab.research.google.com/github/alons-y/semana4/blob/main/Vectoriacionez8.ipynb\" target=\"_parent\"><img src=\"https://colab.research.google.com/assets/colab-badge.svg\" alt=\"Open In Colab\"/></a>"
      ]
    },
    {
      "cell_type": "code",
      "execution_count": 14,
      "metadata": {
        "colab": {
          "base_uri": "https://localhost:8080/"
        },
        "id": "VDIHONFetgb8",
        "outputId": "1d422a8e-9f60-4ac3-bf7e-a91ec3a74b6d"
      },
      "outputs": [
        {
          "output_type": "stream",
          "name": "stdout",
          "text": [
            "Requirement already satisfied: librosa in /usr/local/lib/python3.11/dist-packages (0.11.0)\n",
            "Requirement already satisfied: scikit-learn in /usr/local/lib/python3.11/dist-packages (1.6.1)\n",
            "Requirement already satisfied: audioread>=2.1.9 in /usr/local/lib/python3.11/dist-packages (from librosa) (3.0.1)\n",
            "Requirement already satisfied: numba>=0.51.0 in /usr/local/lib/python3.11/dist-packages (from librosa) (0.60.0)\n",
            "Requirement already satisfied: numpy>=1.22.3 in /usr/local/lib/python3.11/dist-packages (from librosa) (2.0.2)\n",
            "Requirement already satisfied: scipy>=1.6.0 in /usr/local/lib/python3.11/dist-packages (from librosa) (1.14.1)\n",
            "Requirement already satisfied: joblib>=1.0 in /usr/local/lib/python3.11/dist-packages (from librosa) (1.4.2)\n",
            "Requirement already satisfied: decorator>=4.3.0 in /usr/local/lib/python3.11/dist-packages (from librosa) (4.4.2)\n",
            "Requirement already satisfied: soundfile>=0.12.1 in /usr/local/lib/python3.11/dist-packages (from librosa) (0.13.1)\n",
            "Requirement already satisfied: pooch>=1.1 in /usr/local/lib/python3.11/dist-packages (from librosa) (1.8.2)\n",
            "Requirement already satisfied: soxr>=0.3.2 in /usr/local/lib/python3.11/dist-packages (from librosa) (0.5.0.post1)\n",
            "Requirement already satisfied: typing_extensions>=4.1.1 in /usr/local/lib/python3.11/dist-packages (from librosa) (4.13.2)\n",
            "Requirement already satisfied: lazy_loader>=0.1 in /usr/local/lib/python3.11/dist-packages (from librosa) (0.4)\n",
            "Requirement already satisfied: msgpack>=1.0 in /usr/local/lib/python3.11/dist-packages (from librosa) (1.1.0)\n",
            "Requirement already satisfied: threadpoolctl>=3.1.0 in /usr/local/lib/python3.11/dist-packages (from scikit-learn) (3.6.0)\n",
            "Requirement already satisfied: packaging in /usr/local/lib/python3.11/dist-packages (from lazy_loader>=0.1->librosa) (24.2)\n",
            "Requirement already satisfied: llvmlite<0.44,>=0.43.0dev0 in /usr/local/lib/python3.11/dist-packages (from numba>=0.51.0->librosa) (0.43.0)\n",
            "Requirement already satisfied: platformdirs>=2.5.0 in /usr/local/lib/python3.11/dist-packages (from pooch>=1.1->librosa) (4.3.7)\n",
            "Requirement already satisfied: requests>=2.19.0 in /usr/local/lib/python3.11/dist-packages (from pooch>=1.1->librosa) (2.32.3)\n",
            "Requirement already satisfied: cffi>=1.0 in /usr/local/lib/python3.11/dist-packages (from soundfile>=0.12.1->librosa) (1.17.1)\n",
            "Requirement already satisfied: pycparser in /usr/local/lib/python3.11/dist-packages (from cffi>=1.0->soundfile>=0.12.1->librosa) (2.22)\n",
            "Requirement already satisfied: charset-normalizer<4,>=2 in /usr/local/lib/python3.11/dist-packages (from requests>=2.19.0->pooch>=1.1->librosa) (3.4.1)\n",
            "Requirement already satisfied: idna<4,>=2.5 in /usr/local/lib/python3.11/dist-packages (from requests>=2.19.0->pooch>=1.1->librosa) (3.10)\n",
            "Requirement already satisfied: urllib3<3,>=1.21.1 in /usr/local/lib/python3.11/dist-packages (from requests>=2.19.0->pooch>=1.1->librosa) (2.3.0)\n",
            "Requirement already satisfied: certifi>=2017.4.17 in /usr/local/lib/python3.11/dist-packages (from requests>=2.19.0->pooch>=1.1->librosa) (2025.1.31)\n"
          ]
        }
      ],
      "source": [
        "import os\n",
        "import numpy as np\n",
        "import scipy.io.wavfile as wav\n",
        "import matplotlib.pyplot as plt\n",
        "!pip install librosa scikit-learn\n",
        "\n"
      ]
    },
    {
      "cell_type": "code",
      "source": [
        "from google.colab import drive\n",
        "drive.mount('/content/drive')\n",
        "\n",
        "# Ruta donde están los audios\n",
        "ruta_comandos = '/content/drive/MyDrive/COMANDOSC'\n"
      ],
      "metadata": {
        "colab": {
          "base_uri": "https://localhost:8080/"
        },
        "id": "2tY_0HF59W4X",
        "outputId": "4cbc153c-d560-4624-d461-bf807490455b"
      },
      "execution_count": 4,
      "outputs": [
        {
          "output_type": "stream",
          "name": "stdout",
          "text": [
            "Mounted at /content/drive\n"
          ]
        }
      ]
    },
    {
      "cell_type": "code",
      "source": [
        "import os\n",
        "\n",
        "# Ruta a tu carpeta\n",
        "ruta_comandos = \"/content/drive/MyDrive/COMANDOSC\"\n",
        "\n",
        "# Listar archivos\n",
        "if os.path.exists(ruta_comandos):\n",
        "    archivos = os.listdir(ruta_comandos)\n",
        "    print(\"Archivos encontrados en la carpeta:\")\n",
        "    for a in archivos:\n",
        "        print(a)\n",
        "else:\n",
        "    print(\"⚠️ La carpeta no existe. Verifica la ruta.\")\n",
        "\n"
      ],
      "metadata": {
        "colab": {
          "base_uri": "https://localhost:8080/"
        },
        "id": "mrhT0C2s96Jz",
        "outputId": "d20933b9-d2d9-4ae6-ef53-27ebad217258"
      },
      "execution_count": 11,
      "outputs": [
        {
          "output_type": "stream",
          "name": "stdout",
          "text": [
            "Archivos encontrados en la carpeta:\n",
            "stop\n",
            "start\n",
            "pause\n",
            "next\n"
          ]
        }
      ]
    },
    {
      "cell_type": "code",
      "source": [
        "import os\n",
        "import numpy as np\n",
        "import scipy.io.wavfile as wav\n",
        "\n",
        "def cargar_audios(ruta_carpeta):\n",
        "    audios = {}\n",
        "    fs_global = None\n",
        "\n",
        "    for carpeta, _, archivos in os.walk(ruta_carpeta):\n",
        "        for archivo in archivos:\n",
        "            if archivo.endswith(\".wav\"):\n",
        "                etiqueta = os.path.basename(carpeta)  # nombre de la subcarpeta como etiqueta\n",
        "                if etiqueta not in audios:\n",
        "                    audios[etiqueta] = []\n",
        "                fs, data = wav.read(os.path.join(carpeta, archivo))\n",
        "                if fs_global is None:\n",
        "                    fs_global = fs\n",
        "                elif fs != fs_global:\n",
        "                    raise ValueError(f\"Frecuencia inconsistente en {archivo}\")\n",
        "                audios[etiqueta].append(data.astype(np.float32))\n",
        "\n",
        "    if fs_global is None:\n",
        "        raise FileNotFoundError(\"No se encontraron archivos .wav en la carpeta.\")\n",
        "\n",
        "    return audios, fs_global\n",
        "\n",
        "\n",
        "def preenfasis(senal, coef=0.95):\n",
        "    return np.append(senal[0], senal[1:] - coef * senal[:-1])\n",
        "\n",
        "def dividir_en_frames(senal, frame_size=320, hop_size=128):\n",
        "    num_frames = 1 + int((len(senal) - frame_size) / hop_size)\n",
        "    return np.stack([senal[i*hop_size : i*hop_size + frame_size] for i in range(num_frames)])\n",
        "\n",
        "def aplicar_ventana(frames):\n",
        "    hamming = np.hamming(frames.shape[1])\n",
        "    return frames * hamming\n",
        "\n",
        "def cruces_por_cero(frame):\n",
        "    signos = np.sign(frame)\n",
        "    signos[signos == 0] = -1\n",
        "    return np.sum(signos[:-1] != signos[1:])\n",
        "\n",
        "def detectar_voz_por_cruces(frames, umbral=30):\n",
        "    return np.array([frame for frame in frames if cruces_por_cero(frame) > umbral])\n",
        "\n",
        "def procesar_audio(senal):\n",
        "    señal_pre = preenfasis(senal)\n",
        "    frames = dividir_en_frames(señal_pre)\n",
        "    frames_win = aplicar_ventana(frames)\n",
        "    frames_voz = detectar_voz_por_cruces(frames_win)\n",
        "    return frames_voz\n",
        "\n",
        "def procesar_dataset(ruta_carpeta):\n",
        "    audios, fs = cargar_audios(ruta_carpeta)\n",
        "    dataset_procesado = {}\n",
        "    for etiqueta, señales in audios.items():\n",
        "        dataset_procesado[etiqueta] = [procesar_audio(s) for s in señales]\n",
        "    return dataset_procesado, fs\n"
      ],
      "metadata": {
        "id": "Vy4tWN149fZ3"
      },
      "execution_count": 12,
      "outputs": []
    },
    {
      "cell_type": "code",
      "source": [
        "dataset, fs = procesar_dataset(ruta_comandos)\n",
        "print(f\"Frecuencia de muestreo: {fs}\")\n",
        "print(\"Comandos procesados:\", list(dataset.keys()))\n",
        "print(\"Frames detectados (ejemplo):\", len(dataset[\"start\"][0]))\n"
      ],
      "metadata": {
        "colab": {
          "base_uri": "https://localhost:8080/"
        },
        "id": "GSKPk_ms9ils",
        "outputId": "872161ef-8666-4d04-9271-45e724cc9bd4"
      },
      "execution_count": 13,
      "outputs": [
        {
          "output_type": "stream",
          "name": "stdout",
          "text": [
            "Frecuencia de muestreo: 16000\n",
            "Comandos procesados: ['stop', 'start', 'pause', 'next']\n",
            "Frames detectados (ejemplo): 123\n"
          ]
        }
      ]
    },
    {
      "cell_type": "markdown",
      "source": [
        "pARTE 2"
      ],
      "metadata": {
        "id": "26ouvk5D-4sT"
      }
    },
    {
      "cell_type": "code",
      "source": [
        "import numpy as np\n",
        "import librosa\n",
        "from sklearn.cluster import KMeans\n",
        "\n",
        "# 1. Calcular LPC para un frame (usamos orden 12 → devuelve 13 coef, omitimos el primero)\n",
        "def calcular_lpc(frame, orden=12):\n",
        "    try:\n",
        "        lpc = librosa.lpc(frame, order=orden)\n",
        "        return lpc[1:]  # omitimos el coeficiente a[0]\n",
        "    except np.linalg.LinAlgError:\n",
        "        return None\n",
        "\n",
        "\n",
        "# 2. Extraer LPCs para una lista de frames\n",
        "def extraer_lpcs(frames):\n",
        "    return [lpc for frame in frames if (lpc := calcular_lpc(frame)) is not None]\n",
        "\n",
        "# 3. Preparar data de entrenamiento (primeras 10 grabaciones por clase)\n",
        "def preparar_entrenamiento(dataset, max_grabaciones=10):\n",
        "    lpc_por_clase = {}\n",
        "    for clase, grabaciones in dataset.items():\n",
        "        lpcs = []\n",
        "        for grabacion in grabaciones[:max_grabaciones]:\n",
        "            lpcs.extend(extraer_lpcs(grabacion))\n",
        "        lpc_por_clase[clase] = np.array(lpcs)\n",
        "    return lpc_por_clase\n",
        "\n",
        "# 4. Entrenar codebooks con KMeans (8 clusters por clase)\n",
        "def entrenar_codebooks(lpc_por_clase, n_clusters=8):\n",
        "    codebooks = {}\n",
        "    for clase, vectores_lpc in lpc_por_clase.items():\n",
        "        kmeans = KMeans(n_clusters=n_clusters, random_state=42, n_init='auto')\n",
        "        kmeans.fit(vectores_lpc)\n",
        "        codebooks[clase] = kmeans.cluster_centers_\n",
        "    return codebooks\n"
      ],
      "metadata": {
        "id": "pGN1f3sY-6cq"
      },
      "execution_count": 17,
      "outputs": []
    },
    {
      "cell_type": "code",
      "source": [
        "# Paso 1: Extraer los LPCs solo de los 10 primeros por clase\n",
        "lpc_train = preparar_entrenamiento(dataset)\n",
        "\n",
        "# Paso 2: Entrenar los codebooks por clase\n",
        "codebooks = entrenar_codebooks(lpc_train)\n",
        "\n",
        "# Ver un resumen\n",
        "for clase, codebook in codebooks.items():\n",
        "    print(f\"{clase}: {codebook.shape} centroides\")\n"
      ],
      "metadata": {
        "colab": {
          "base_uri": "https://localhost:8080/"
        },
        "id": "kxdyYOJn-_J0",
        "outputId": "660982d3-66e0-49b2-f8a4-8b36c91c4e7a"
      },
      "execution_count": 18,
      "outputs": [
        {
          "output_type": "stream",
          "name": "stdout",
          "text": [
            "stop: (8, 12) centroides\n",
            "start: (8, 12) centroides\n",
            "pause: (8, 12) centroides\n",
            "next: (8, 12) centroides\n"
          ]
        }
      ]
    },
    {
      "cell_type": "code",
      "source": [
        "import numpy as np\n",
        "\n",
        "def distancia_euclidiana(v, codebook):\n",
        "    dists = np.linalg.norm(codebook - v, axis=1)\n",
        "    return np.min(dists)\n",
        "\n",
        "def distancia_itakura_saito(v, codebook):\n",
        "    dists = []\n",
        "    for c in codebook:\n",
        "        num = np.sum((v ** 2) / (c + 1e-6))\n",
        "        den = np.sum(v ** 2)\n",
        "        d = np.log(num / (den + 1e-6))\n",
        "        dists.append(d)\n",
        "    return np.min(dists)\n"
      ],
      "metadata": {
        "id": "ipvRnos1_vl4"
      },
      "execution_count": 19,
      "outputs": []
    },
    {
      "cell_type": "code",
      "source": [
        "def clasificar_grabacion(frames, codebooks, metodo='euclidiana'):\n",
        "    dist_func = distancia_euclidiana if metodo == 'euclidiana' else distancia_itakura_saito\n",
        "\n",
        "    lpcs = [calcular_lpc(frame) for frame in frames]\n",
        "    lpcs = [lpc for lpc in lpcs if lpc is not None]\n",
        "\n",
        "    if len(lpcs) == 0:\n",
        "        return None  # nada para clasificar\n",
        "\n",
        "    distancias = {}\n",
        "    for clase, codebook in codebooks.items():\n",
        "        total = np.mean([dist_func(v, codebook) for v in lpcs])\n",
        "        distancias[clase] = total\n",
        "\n",
        "    return min(distancias, key=distancias.get)\n"
      ],
      "metadata": {
        "id": "PcwTl0hM_xxE"
      },
      "execution_count": 20,
      "outputs": []
    },
    {
      "cell_type": "code",
      "source": [
        "from sklearn.metrics import confusion_matrix\n",
        "import seaborn as sns\n",
        "import matplotlib.pyplot as plt\n",
        "\n",
        "def evaluar_pruebas(dataset, codebooks, metodo='euclidiana'):\n",
        "    etiquetas_reales = []\n",
        "    etiquetas_predichas = []\n",
        "\n",
        "    for clase, grabaciones in dataset.items():\n",
        "        for grabacion in grabaciones[10:15]:  # pruebas: índices 10 a 14\n",
        "            pred = clasificar_grabacion(grabacion, codebooks, metodo)\n",
        "            if pred is not None:\n",
        "                etiquetas_reales.append(clase)\n",
        "                etiquetas_predichas.append(pred)\n",
        "\n",
        "    return etiquetas_reales, etiquetas_predichas\n",
        "\n",
        "def mostrar_matriz_confusion(y_true, y_pred, etiquetas):\n",
        "    cm = confusion_matrix(y_true, y_pred, labels=etiquetas)\n",
        "    plt.figure(figsize=(6, 5))\n",
        "    sns.heatmap(cm, annot=True, fmt='d', xticklabels=etiquetas, yticklabels=etiquetas, cmap='Blues')\n",
        "    plt.xlabel(\"Predicción\")\n",
        "    plt.ylabel(\"Real\")\n",
        "    plt.title(\"Matriz de Confusión\")\n",
        "    plt.show()\n"
      ],
      "metadata": {
        "id": "-yj8D3bY_0e4"
      },
      "execution_count": 21,
      "outputs": []
    },
    {
      "cell_type": "code",
      "source": [
        "# Evaluación\n",
        "y_real, y_pred = evaluar_pruebas(dataset, codebooks, metodo='euclidiana')\n",
        "\n",
        "# Visualización\n",
        "etiquetas = sorted(codebooks.keys())  # ['next', 'pause', 'start', 'stop']\n",
        "mostrar_matriz_confusion(y_real, y_pred, etiquetas)\n"
      ],
      "metadata": {
        "colab": {
          "base_uri": "https://localhost:8080/",
          "height": 487
        },
        "id": "N2fZMPKk_2ko",
        "outputId": "8f2551e5-228d-4744-d6aa-c78ce4831c35"
      },
      "execution_count": 22,
      "outputs": [
        {
          "output_type": "display_data",
          "data": {
            "text/plain": [
              "<Figure size 600x500 with 2 Axes>"
            ],
            "image/png": "[encoded data removed]"
          },
          "metadata": {}
        }
      ]
    },
    {
      "cell_type": "code",
      "source": [
        "y_real, y_pred = evaluar_pruebas(dataset, codebooks, metodo='itakura')\n",
        "mostrar_matriz_confusion(y_real, y_pred, etiquetas)\n"
      ],
      "metadata": {
        "colab": {
          "base_uri": "https://localhost:8080/",
          "height": 521
        },
        "id": "JUHOKl4BBwq-",
        "outputId": "8e3b8bd5-4295-40e0-e2e0-ed9697affa31"
      },
      "execution_count": 23,
      "outputs": [
        {
          "output_type": "stream",
          "name": "stderr",
          "text": [
            "<ipython-input-19-d8ff67d14fec>:12: RuntimeWarning: invalid value encountered in log\n",
            "  d = np.log(num / (den + 1e-6))\n"
          ]
        },
        {
          "output_type": "display_data",
          "data": {
            "text/plain": [
              "<Figure size 600x500 with 2 Axes>"
            ],
            "image/png": "[encoded data removed]"
          },
          "metadata": {}
        }
      ]
    }
  ]
}